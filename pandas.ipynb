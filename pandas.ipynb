{
 "cells": [
  {
   "cell_type": "code",
   "execution_count": 5,
   "metadata": {
    "scrolled": false
   },
   "outputs": [
    {
     "name": "stdout",
     "output_type": "stream",
     "text": [
      "0    1\n",
      "1    2\n",
      "2    3\n",
      "dtype: int64\n",
      "**************************************************\n",
      "A     1\n",
      "B     1\n",
      "C    10\n",
      "D     8\n",
      "E     1\n",
      "F     5\n",
      "G     3\n",
      "H     2\n",
      "I     6\n",
      "J     1\n",
      "dtype: int64\n",
      "A    1\n",
      "1    2\n",
      "dtype: int64\n",
      "[1 2]\n",
      "Index(['A', 1], dtype='object')\n"
     ]
    }
   ],
   "source": [
    "# pandas的 Serier 对象\n",
    "import pandas as pd\n",
    "import numpy as np\n",
    "import random \n",
    "# 创建 \n",
    "data = pd.Series([1,2,3])  # 没有index 传值 默认为下标\n",
    "print(data)\n",
    "\n",
    "print('*'*50)\n",
    "data = pd.Series([random.randint(0,10) for i in range(10)],index=[chr(ord('A')+i) for i in range(10)])  # 传入index \n",
    "print(data)\n",
    "\n",
    "data=pd.Series([1,2],index=['A',1]) # 这个例子告诉我  index 可以是不同的类型的数据\n",
    "print(data)\n",
    "\n",
    "\n",
    "# 通过 属性 values 访问值 index 访问  索引的标签\n",
    "print(data.values)\n",
    "print(data.index)"
   ]
  },
  {
   "cell_type": "code",
   "execution_count": 6,
   "metadata": {},
   "outputs": [
    {
     "name": "stdout",
     "output_type": "stream",
     "text": [
      "California    38332521\n",
      "Texas         26448193\n",
      "New York      19651127\n",
      "Florida       19552860\n",
      "Illinois      12882135\n",
      "dtype: int64\n",
      "the New York population is  19651127\n",
      "\n",
      "New York    19651127\n",
      "Florida     19552860\n",
      "Illinois    12882135\n",
      "dtype: int64\n",
      "\n",
      "New York    19651127\n",
      "Florida     19552860\n",
      "dtype: int64\n"
     ]
    }
   ],
   "source": [
    "# 通过字典创建  Series\n",
    "population_dict = {'California': 38332521,\n",
    "                   'Texas': 26448193,\n",
    "                   'New York': 19651127,\n",
    "                   'Florida': 19552860,\n",
    "                   'Illinois': 12882135}\n",
    "population = pd.Series(population_dict)\n",
    "print(population)\n",
    "\n",
    "\n",
    "# 取值 切片 \n",
    "print(\"the New York population is \",population['New York'])\n",
    "print()\n",
    "# 显示切片\n",
    "print(population['New York':'Illinois']) # 这里注意一下 这个会取到 'Illinois' \n",
    "# 隐式切片\n",
    "print()\n",
    "print(population[2:4]) # 不会取到 下标为 3的 值\n",
    "\n"
   ]
  },
  {
   "cell_type": "code",
   "execution_count": 7,
   "metadata": {},
   "outputs": [
    {
     "name": "stdout",
     "output_type": "stream",
     "text": [
      "10    5\n",
      "11    6\n",
      "12    1\n",
      "13    8\n",
      "14    0\n",
      "dtype: int32\n",
      "10    5\n",
      "11    6\n",
      "12    1\n",
      "13    8\n",
      "dtype: int32\n",
      "\n",
      "10    5\n",
      "11    6\n",
      "12    1\n",
      "dtype: int32\n"
     ]
    }
   ],
   "source": [
    "data2 = pd.Series(np.random.randint(0,10,(5)),index = [i for i in  range(10,15)])\n",
    "print(data2)\n",
    "# print(data2[10],end='\\n\\n')  #  这样会使用  显示操作\n",
    "# print(data2[2:10],end='\\n\\n')  #  这样会使用  隐式操作\n",
    "# 因为这样索引容易出问题 \n",
    "# 所以pandas 提供了 loc() iloc() ix()  分别是 显示索引 隐式索引 混合索引  对于整数索引是使用\n",
    "\n",
    "# 显示  取值or切片\n",
    "print(data2.loc[10:13],end='\\n\\n')   #  这个会取到  13的值\n",
    "# 隐式  取值or切片\n",
    "print(data2.iloc[0:3])\n",
    "#print(population[2:4]) # 不会取到 下标为 3的 值"
   ]
  },
  {
   "cell_type": "code",
   "execution_count": 36,
   "metadata": {},
   "outputs": [
    {
     "name": "stdout",
     "output_type": "stream",
     "text": [
      "              area  population\n",
      "California  423967    38332521\n",
      "Texas       695662    26448193\n",
      "New York    141297    19651127\n",
      "Florida     170312    19552860\n",
      "Illinois    149995    12882135\n",
      "\n",
      "\n",
      "\n",
      "   random num\n",
      "0           4\n",
      "1           6\n",
      "2           0\n",
      "3           2\n",
      "4           3\n",
      "5           6\n",
      "6           3\n",
      "7           3\n",
      "8           1\n",
      "9           6\n",
      "\n",
      "\n",
      "\n",
      "Index(['California', 'Texas', 'New York', 'Florida', 'Illinois'], dtype='object')\n",
      "Index(['area', 'population'], dtype='object')\n",
      "California    423967\n",
      "Texas         695662\n",
      "New York      141297\n",
      "Florida       170312\n",
      "Illinois      149995\n",
      "Name: area, dtype: int64\n",
      "\n",
      "\n",
      "\n",
      "            area  population\n",
      "Texas     695662    26448193\n",
      "New York  141297    19651127\n",
      "\n",
      "\n",
      "\n",
      "            area  population\n",
      "Texas     695662    26448193\n",
      "New York  141297    19651127\n",
      "Florida   170312    19552860\n",
      "Illinois  149995    12882135\n"
     ]
    }
   ],
   "source": [
    "area_dict = {'California': 423967, 'Texas': 695662, 'New York': 141297,\n",
    "             'Florida': 170312, 'Illinois': 149995}\n",
    "area = pd.Series(area_dict)\n",
    "\n",
    "# pandas 的对象 DataFrame\n",
    "states = pd.DataFrame({\"area\":area,\"population\":population})\n",
    "print(states)\n",
    "\n",
    "# 通过 Series 和 columns 创建 \n",
    "a = pd.Series([random.randint(0,10) for i in range(10)])\n",
    "b = pd.DataFrame(a,columns=['random num'])\n",
    "print('\\n'*2)\n",
    "print(b)\n",
    "print('\\n'*2)\n",
    "\n",
    "# DataFrame 属性 index columns\n",
    "print(states.index)\n",
    "print(states.columns)\n",
    "print(states['area'])\n",
    "print('\\n'*2)\n",
    "# 对  DataFrame 取值 or 切片\n",
    "print(states.iloc[1:3])  # 隐式 索引\n",
    "\n",
    "print('\\n'*2)\n",
    "print(states.loc['Texas':'Illinois'])  # 显式 索引\n",
    "\n"
   ]
  },
  {
   "cell_type": "code",
   "execution_count": 32,
   "metadata": {},
   "outputs": [
    {
     "name": "stdout",
     "output_type": "stream",
     "text": [
      "            area  population\n",
      "Texas     695662    26448193\n",
      "Illinois  149995    12882135\n",
      "              area  population\n",
      "California  423967    38332521\n",
      "Texas       695662    26448193\n",
      "Florida     170312    19552860\n"
     ]
    }
   ],
   "source": [
    "# 其他的取值\n",
    "\n",
    "# 花式取值\n",
    "print(states.loc[['Texas','Illinois']])\n",
    "\n",
    "# 掩码\n",
    "print(states[states['area']>149995])\n"
   ]
  },
  {
   "cell_type": "code",
   "execution_count": null,
   "metadata": {},
   "outputs": [],
   "source": []
  }
 ],
 "metadata": {
  "kernelspec": {
   "display_name": "Python 3",
   "language": "python",
   "name": "python3"
  },
  "language_info": {
   "codemirror_mode": {
    "name": "ipython",
    "version": 3
   },
   "file_extension": ".py",
   "mimetype": "text/x-python",
   "name": "python",
   "nbconvert_exporter": "python",
   "pygments_lexer": "ipython3",
   "version": "3.8.1"
  }
 },
 "nbformat": 4,
 "nbformat_minor": 4
}
