{
 "cells": [
  {
   "cell_type": "code",
   "execution_count": 1,
   "metadata": {},
   "outputs": [
    {
     "name": "stdout",
     "output_type": "stream",
     "text": [
      "int32\n",
      "float32\n",
      "float32\n"
     ]
    }
   ],
   "source": [
    "import numpy as np\n",
    "# 将python的列表转换为narray类型\n",
    "n = np.array([i for i in range(12)])\n",
    "print(n.dtype)\n",
    "\n",
    "\n",
    "# dtype narray的类型 \n",
    "n1 = np.array([i for i in range(12) ],dtype = np.float32)\n",
    "print(n1.dtype)\n",
    "# 可以通过 dtype = np.float32 来定义narray的类型 or dtype = \"float32\"\n",
    "n2 = np.array([i for i in range(12) ],dtype = \"float32\")\n",
    "print(n2.dtype)\n",
    "\n",
    "# numpy 的类型 大概 int int8 int16 int32 ... float float16 float32... bool complex"
   ]
  },
  {
   "cell_type": "code",
   "execution_count": 21,
   "metadata": {},
   "outputs": [
    {
     "name": "stdout",
     "output_type": "stream",
     "text": [
      "[0 0 0 0 0 0 0 0 0 0 0 0]\n",
      "[1. 1. 1. 1. 1. 1. 1. 1. 1. 1. 1. 1.]\n",
      "[[3.14 3.14 3.14 3.14]\n",
      " [3.14 3.14 3.14 3.14]\n",
      " [3.14 3.14 3.14 3.14]]\n",
      "[[1. 0. 0.]\n",
      " [0. 1. 0.]\n",
      " [0. 0. 1.]]\n"
     ]
    }
   ],
   "source": [
    "# numpy 特殊矩阵的创建\n",
    "\n",
    "# 全是 0 的矩阵\n",
    "zero =  np.zeros(12,dtype=np.int32)\n",
    "print(zero)\n",
    "\n",
    "# 全是 1 的矩阵\n",
    "one = np.ones(12)\n",
    "print(one)\n",
    "\n",
    "# 全是一个数\n",
    "pi = np.full((3,4),3.14) # 产生一个 3行 4 列 全是 3.14 的矩阵\n",
    "print(pi)\n",
    "\n",
    "# 产生一个单位矩阵\n",
    "danwei = np.eye(3)\n",
    "print(danwei)\n",
    "\n"
   ]
  },
  {
   "cell_type": "code",
   "execution_count": 32,
   "metadata": {},
   "outputs": [
    {
     "name": "stdout",
     "output_type": "stream",
     "text": [
      "[[0.82341463 0.51686226 0.49344086 0.8936117 ]\n",
      " [0.36123532 0.51830933 0.20093694 0.64885762]\n",
      " [0.11542811 0.93478057 0.6201074  0.50859994]]\n",
      "[[9 5 1 8]\n",
      " [7 8 8 7]\n",
      " [8 6 9 5]]\n",
      "[[0.94588456 0.47716552 0.44451887 0.21166592]\n",
      " [0.39436247 0.81390627 0.05325815 0.13251057]\n",
      " [0.3899861  0.56108552 0.56276658 0.71909318]]\n",
      "[[9 1 3 2]\n",
      " [8 9 6 6]\n",
      " [4 1 8 4]]\n"
     ]
    }
   ],
   "source": [
    "# 可以随机的产生一些数\n",
    "# 这些用法和 python的random库很像\n",
    "\n",
    "\n",
    "# 0~1 随机小数\n",
    "a = np.random.random((3,4))\n",
    "print(a)\n",
    "a1 = np.random.randint(0,10,(3,4))\n",
    "print(a1)\n",
    "\n",
    "#用 random 来实现\n",
    "import random as r\n",
    "a2 = np.array([r.random() for i in range(0,12)]).reshape(3,4)\n",
    "print(a2)\n",
    "\n",
    "a3 = np.array([r.randint(0,10) for i in range(0,12)]).reshape(3,4)\n",
    "print(a3)"
   ]
  },
  {
   "cell_type": "code",
   "execution_count": 50,
   "metadata": {},
   "outputs": [
    {
     "name": "stdout",
     "output_type": "stream",
     "text": [
      "2\n",
      "(3, 4)\n",
      "12\n",
      "int32\n"
     ]
    }
   ],
   "source": [
    "# numpy数组的属性\n",
    "# ndim 数组的维度 shape数组的形状 size 数组的大小 dtype数组的类型\n",
    "print(a3.ndim)\n",
    "print(a3.shape)\n",
    "print(a3.size)\n",
    "print(a3.dtype)\n"
   ]
  },
  {
   "cell_type": "code",
   "execution_count": 53,
   "metadata": {},
   "outputs": [],
   "source": [
    "# 索引 取值\n",
    "ar = np.random.randint(0,12,(3,4))"
   ]
  },
  {
   "cell_type": "code",
   "execution_count": 65,
   "metadata": {},
   "outputs": [
    {
     "name": "stdout",
     "output_type": "stream",
     "text": [
      "[[0 0 5 2]\n",
      " [8 8 8 3]\n",
      " [2 3 8 2]]\n",
      "第一行： [0 0 5 2]\n",
      "第一行第一个： 0\n",
      "改值以后 ，第一行第一个： 0\n",
      "第一行第一个： 0\n",
      "[0 8 2]\n",
      "[0 0 5]\n"
     ]
    }
   ],
   "source": [
    "print(ar)\n",
    "print(\"第一行：\",ar[0])\n",
    "print(\"第一行第一个：\",ar[0][0])\n",
    "ar[0][0]= 0\n",
    "print(\"改值以后 ，第一行第一个：\",ar[0][0])\n",
    "# 取地第一行第一列\n",
    "print(\"第一行第一个：\",ar[0,0]) # 可以通过 ，来\n",
    "\n",
    "\n",
    "# 切片 使用 :\n",
    "\n",
    "# 取出第一列\n",
    "print(ar[:,0])\n",
    "# 取出第1行的前3个\n",
    "print(ar[0][:3])"
   ]
  },
  {
   "cell_type": "code",
   "execution_count": 8,
   "metadata": {},
   "outputs": [
    {
     "name": "stdout",
     "output_type": "stream",
     "text": [
      "[2 3 2 1 1 1 3 6 2 2]\n",
      "[3 1 1]\n",
      "[0. 0. 1. 1. 1. 0. 0. 0. 0. 0.] [2, 3, 3, 4, 4, 4]\n"
     ]
    }
   ],
   "source": [
    "# 花式索引\n",
    "# 通过 数组  索引\n",
    "arr2 = np.random.randint(0,10,(10))\n",
    "index = [1,3,4]\n",
    "print(arr2)\n",
    "print(arr2[index])\n",
    "\n",
    "# 可以和之前的索引一起用\n"
   ]
  },
  {
   "cell_type": "code",
   "execution_count": 7,
   "metadata": {},
   "outputs": [
    {
     "name": "stdout",
     "output_type": "stream",
     "text": [
      "(12,)\n",
      "[[ 4 11  5  6]\n",
      " [10 10  9  8]\n",
      " [ 1  2  4 11]] \n",
      " (3, 4)\n"
     ]
    }
   ],
   "source": [
    "# 数组的 变形  reshape\n",
    "n1 = np.random.randint(0,12,(12))\n",
    "print(n1.shape)\n",
    "n1 = n1.reshape(3,4)\n",
    "print(n1,'\\n',n1.shape)"
   ]
  },
  {
   "cell_type": "code",
   "execution_count": 20,
   "metadata": {
    "scrolled": false
   },
   "outputs": [
    {
     "name": "stdout",
     "output_type": "stream",
     "text": [
      "179.73809523809524\n",
      "193\n",
      "163\n"
     ]
    }
   ],
   "source": [
    "# 2.43 实例\n",
    "import pandas as pd\n",
    "data = pd.read_csv(\"./data/president_heights.csv\")\n",
    "height =np.array(data['height(cm)'])\n",
    "print(height.mean()) # 平均值\n",
    "print(height.max()) # 最大值\n",
    "print(height.min()) # 最大值"
   ]
  },
  {
   "cell_type": "code",
   "execution_count": 22,
   "metadata": {},
   "outputs": [
    {
     "data": {
      "text/plain": [
       "(array([ 1.,  2.,  3.,  5.,  3.,  6., 12.,  3.,  5.,  2.]),\n",
       " array([163., 166., 169., 172., 175., 178., 181., 184., 187., 190., 193.]),\n",
       " <BarContainer object of 10 artists>)"
      ]
     },
     "execution_count": 22,
     "metadata": {},
     "output_type": "execute_result"
    },
    {
     "data": {
      "image/png": "[encoded data removed]",
      "text/plain": [
       "<Figure size 432x288 with 1 Axes>"
      ]
     },
     "metadata": {
      "needs_background": "light"
     },
     "output_type": "display_data"
    }
   ],
   "source": [
    "import matplotlib.pyplot as plt\n",
    "plt.hist(height)"
   ]
  },
  {
   "cell_type": "code",
   "execution_count": 8,
   "metadata": {},
   "outputs": [
    {
     "name": "stdout",
     "output_type": "stream",
     "text": [
      "[[7426393   78240   13548     705]\n",
      " [ 494203    2651    1309       0]\n",
      " [ 142819   13119     151    1141]\n",
      " ...\n",
      " [ 109222    4840      35     212]\n",
      " [ 626223   22962     532    1559]\n",
      " [  99228    1699      23     135]]\n",
      "[7426393  494203  142819 ...  109222  626223   99228]\n"
     ]
    }
   ],
   "source": [
    "# 对YouTube数据分析\n",
    "uk_path ='./youtube_video_data/GB_video_data_numbers.csv'\n",
    "data=np.loadtxt(uk_path,delimiter=',',dtype=np.int)\n",
    "print(data)\n",
    "first_col = data[:,0]\n",
    "print(first_col)"
   ]
  },
  {
   "cell_type": "code",
   "execution_count": 17,
   "metadata": {},
   "outputs": [],
   "source": [
    "from PIL  import Image as image\n",
    "im = image.open(\"./2.jpg\")\n",
    "n = np.array(im)\n",
    "b = [100,100,100] - n\n",
    "im2 =image.fromarray(b.astype('uint8'))\n",
    "im2.save(\"./3.jpg\")"
   ]
  },
  {
   "cell_type": "code",
   "execution_count": 34,
   "metadata": {},
   "outputs": [
    {
     "name": "stdout",
     "output_type": "stream",
     "text": [
      "[[[4 5]\n",
      "  [3 3]]\n",
      "\n",
      " [[7 9]\n",
      "  [9 9]]\n",
      "\n",
      " [[7 3]\n",
      "  [2 3]]]\n",
      "[[ 7  8]\n",
      " [16 18]\n",
      " [ 9  6]]\n"
     ]
    }
   ],
   "source": [
    "# 说明  axis \n",
    "#  可以总结为一句话：设axis=i，则numpy沿着第i个下标变化的方向进行操作。\n",
    "arr = np.random.randint(0,10,(3,2,2))\n",
    "print(arr)\n",
    "print(np.sum(arr,axis=1)) "
   ]
  },
  {
   "cell_type": "code",
   "execution_count": 39,
   "metadata": {},
   "outputs": [
    {
     "name": "stdout",
     "output_type": "stream",
     "text": [
      "[[15 10 13 13]\n",
      " [17 19 13 15]\n",
      " [12 14 17 16]]\n",
      "[[False  True  True  True]\n",
      " [False False  True False]\n",
      " [ True  True False False]]\n",
      "6\n",
      "[1 2 2 1]\n",
      "[[False False  True  True]\n",
      " [False False  True False]\n",
      " [ True  True False False]]\n",
      "\n",
      "[10 13 13 13 12 14]\n"
     ]
    }
   ],
   "source": [
    "# 比较 掩码 和布尔值\n",
    "\n",
    "np.random.seed(0)\n",
    "array = np.random.randint(10,20,(12)).reshape(3,4)\n",
    "print(array)\n",
    "\n",
    "# 比较操作  返回 布尔类型的数组  可以进行 ==  != >= > <= < 比较运算符       \n",
    "\n",
    "print(array<15)\n",
    "\n",
    "# 计算有多少个数小于 15\n",
    "print(np.count_nonzero(array<15))\n",
    "# or \n",
    "print(np.sum(array<15,axis=0))  # 这样可以选这不同的行列  进行  计算小于 15的\n",
    "\n",
    "# 布尔值的运算符  & | ~ ^   不能使用 and  or not ! 因为这个是对 对象使用的  \n",
    "\n",
    "print((array<15)&(array>10))  # 大于10 小于 15\n",
    "\n",
    "print()\n",
    "# 掩码 直接返回一个 符合的数组  \n",
    "print(array[array<15])"
   ]
  },
  {
   "cell_type": "code",
   "execution_count": 49,
   "metadata": {},
   "outputs": [
    {
     "name": "stdout",
     "output_type": "stream",
     "text": [
      "一年的总降水量：12328\n",
      "一年的下雨的天数：150\n",
      "一年的降水量的最大值：467\n",
      "一年的降水量的最小值：0\n"
     ]
    }
   ],
   "source": [
    "# 实例  统计下雨数据 \n",
    "import pandas as pd\n",
    "data = pd.read_csv('./data/Seattle2014.csv')\n",
    "PRCP = np.array(data['PRCP'])\n",
    "print(\"一年的总降水量：{}\".format(PRCP.sum()))\n",
    "print(\"一年的下雨的天数：{}\".format(np.sum(PRCP>0)))\n",
    "print(\"一年的降水量的最大值：{}\".format(PRCP.max()))\n",
    "print(\"一年的降水量的最小值：{}\".format(PRCP.min()))"
   ]
  },
  {
   "cell_type": "code",
   "execution_count": 18,
   "metadata": {},
   "outputs": [
    {
     "name": "stdout",
     "output_type": "stream",
     "text": [
      "[8 3]\n",
      "[0 1]\n",
      "3\n"
     ]
    }
   ],
   "source": [
    "# 矩阵的运算\n",
    "# 点乘  减法 \n",
    "a2 = np.random.randint(0,10,(2))\n",
    "a3 = np.arange(0,2)\n",
    "print(a2)\n",
    "print(a3)\n",
    "# 矩阵的乘法\n",
    "print(np.dot(a2,a3))"
   ]
  },
  {
   "cell_type": "code",
   "execution_count": null,
   "metadata": {},
   "outputs": [],
   "source": []
  },
  {
   "cell_type": "code",
   "execution_count": null,
   "metadata": {},
   "outputs": [],
   "source": []
  }
 ],
 "metadata": {
  "kernelspec": {
   "display_name": "Python 3",
   "language": "python",
   "name": "python3"
  },
  "language_info": {
   "codemirror_mode": {
    "name": "ipython",
    "version": 3
   },
   "file_extension": ".py",
   "mimetype": "text/x-python",
   "name": "python",
   "nbconvert_exporter": "python",
   "pygments_lexer": "ipython3",
   "version": "3.8.1"
  }
 },
 "nbformat": 4,
 "nbformat_minor": 4
}
